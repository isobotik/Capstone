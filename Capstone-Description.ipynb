{
 "cells": [
  {
   "cell_type": "markdown",
   "metadata": {},
   "source": [
    "### Goal of my project is to address the following problem:\n",
    "\n",
    "#### Classify large European cities based on their ability to host a multisport university event consisting of Football, Tennis and Ice Hockey.\n",
    "\n",
    "### Solution:\n",
    "\n",
    "#### Retrieve the list of largest European cities from Wikipedia and use Foursquare to get the numbers of Football, #### Hockey and Tennis stadiums near the city center. The use k-means clustering to split the cities to 4 groups based on results. Finally show the results on a map.\n",
    "\n",
    "### Data sources used: \n",
    "#### Wikipedia, Foursquare\n",
    "\n",
    "### Wikipedia data structure:\n",
    "#### City name, state, coordinates, population\n",
    "### Foursquare data:\n",
    "#### Venues of the type Football Stadium, Hockey Arena, Tennis Stadium. Only count is retrieved (no details) and the coordinates of the center of the city.\n"
   ]
  },
  {
   "cell_type": "code",
   "execution_count": null,
   "metadata": {},
   "outputs": [],
   "source": []
  }
 ],
 "metadata": {
  "kernelspec": {
   "display_name": "Python 3",
   "language": "python",
   "name": "python3"
  },
  "language_info": {
   "codemirror_mode": {
    "name": "ipython",
    "version": 3
   },
   "file_extension": ".py",
   "mimetype": "text/x-python",
   "name": "python",
   "nbconvert_exporter": "python",
   "pygments_lexer": "ipython3",
   "version": "3.7.3"
  }
 },
 "nbformat": 4,
 "nbformat_minor": 2
}

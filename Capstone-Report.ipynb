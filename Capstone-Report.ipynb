{
 "cells": [
  {
   "cell_type": "markdown",
   "metadata": {},
   "source": [
    "###  Introduction\n",
    "The goal of my project is to classify large European cities based on their ability to host a multisport university event consisting of Football, Tennis and Ice Hockey."
   ]
  },
  {
   "cell_type": "markdown",
   "metadata": {},
   "source": [
    " ### Data and data sources\n",
    " \n",
    " The project is using two data sources.\n",
    " \n",
    " [Wikipedia](https://en.wikipedia.org/wiki/List_of_European_cities_by_population_within_city_limits) from which is retrieved a table with the largest European cities. The obsolete information (columns) were removed and geospatial data were replaced by city center coordinates obtained from Foursquare (to be used in the visualization).\n",
    " \n",
    " [Foursquare](https://foursqure.com) from which the number of Football, Hockey and Tenni stadiums"
   ]
  },
  {
   "cell_type": "markdown",
   "metadata": {},
   "source": [
    "### Methodology section\n",
    "\n",
    "K-means clustering (unsupervised machine learning algorithm) was used to split the cities into 4 groups based on the number of stadiums available for the 3 sports. \n",
    "    "
   ]
  },
  {
   "cell_type": "markdown",
   "metadata": {},
   "source": [
    "### Methodology section\n",
    "\n",
    "The results and visualization clearly identify and separate cities with high potential to organize a multi-sports event from the ones, with limited or no potential to organize such event.\n",
    "\n",
    "IMPORTANT: Observations and tests performed are showing limitations of Foursquare data (less or no venues in East Europe) and API (limits in the number of venues returned), which certainly is not the best data source for this purpose. Still the results and their visualization \"make sense\"."
   ]
  },
  {
   "cell_type": "markdown",
   "metadata": {},
   "source": [
    "#### Discussion\n",
    "\n",
    "The outcome can be used to address the problem and provide candidates for multi-sport event organization, but better results can be achieved if better data sources (instead of Foursquare) with less API limitations are used.\n",
    "\n",
    "The Project does not consider capacity of stadiums as well as other necessary infrastructure e.g. accomodation for the participants."
   ]
  },
  {
   "cell_type": "markdown",
   "metadata": {},
   "source": [
    "#### Conclusion\n",
    "\n",
    "Based on the project results: Istanbull, Moscow, Saint Petersburg, Prague and Brussels would be the best candidates for organization of a multi-sport event including Football, Tennis and Ice Hockey."
   ]
  },
  {
   "cell_type": "code",
   "execution_count": null,
   "metadata": {},
   "outputs": [],
   "source": []
  }
 ],
 "metadata": {
  "kernelspec": {
   "display_name": "Python 3",
   "language": "python",
   "name": "python3"
  },
  "language_info": {
   "codemirror_mode": {
    "name": "ipython",
    "version": 3
   },
   "file_extension": ".py",
   "mimetype": "text/x-python",
   "name": "python",
   "nbconvert_exporter": "python",
   "pygments_lexer": "ipython3",
   "version": "3.7.3"
  }
 },
 "nbformat": 4,
 "nbformat_minor": 2
}
